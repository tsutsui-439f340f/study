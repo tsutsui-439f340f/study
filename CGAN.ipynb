{
 "cells": [
  {
   "cell_type": "code",
   "execution_count": 1,
   "metadata": {},
   "outputs": [],
   "source": [
    "import numpy as np\n",
    "import matplotlib.pyplot as plt\n",
    "import torch\n",
    "import torch.nn as nn\n",
    "import torch.optim as optimizers\n",
    "import torchvision\n",
    "import os\n",
    "import torchvision.datasets as dset\n",
    "import torchvision.transforms as transforms\n",
    "import torchvision.utils as vutils\n",
    "import torch.utils.data\n",
    "import torchsummary\n",
    "from PIL import Image\n",
    "from matplotlib import cm"
   ]
  },
  {
   "cell_type": "code",
   "execution_count": 5,
   "metadata": {},
   "outputs": [],
   "source": [
    "outf = 'result_3_3-CGAN'"
   ]
  },
  {
   "cell_type": "code",
   "execution_count": 6,
   "metadata": {},
   "outputs": [],
   "source": [
    "try:\n",
    "    os.makedirs(outf, exist_ok=True)\n",
    "except OSError as error: \n",
    "    print(error)\n",
    "    pass"
   ]
  },
  {
   "cell_type": "code",
   "execution_count": 7,
   "metadata": {},
   "outputs": [],
   "source": [
    "workers=2\n",
    "batch_size=50\n",
    "nz=100\n",
    "nch_g=128\n",
    "nch_d=128\n",
    "n_epoch=10\n",
    "lr=0.0002\n",
    "beta1=0.5\n"
   ]
  },
  {
   "cell_type": "code",
   "execution_count": 8,
   "metadata": {},
   "outputs": [],
   "source": [
    "root = os.path.join('data', 'mnist')\n",
    "transform = transforms.Compose([transforms.ToTensor(),\n",
    "                                transforms.Normalize((0.5,),(0.5,))])\n",
    "mnist_train =torchvision.datasets.MNIST(root=root,\n",
    "                                      download=True,\n",
    "                                      train=True,\n",
    "                                      transform=transform)"
   ]
  },
  {
   "cell_type": "code",
   "execution_count": 9,
   "metadata": {},
   "outputs": [
    {
     "name": "stdout",
     "output_type": "stream",
     "text": [
      "device: cuda:0\n"
     ]
    }
   ],
   "source": [
    "dataloader = torch.utils.data.DataLoader(mnist_train, batch_size=batch_size,\n",
    "                                         shuffle=True, num_workers=int(workers))\n",
    "\n",
    "# 学習に使用するデバイスを得る。可能ならGPUを使用する\n",
    "device = torch.device(\"cuda:0\" if torch.cuda.is_available() else \"cpu\")\n",
    "print('device:', device)"
   ]
  },
  {
   "cell_type": "code",
   "execution_count": 10,
   "metadata": {},
   "outputs": [],
   "source": [
    "class Generator(nn.Module):\n",
    "    \"\"\"\n",
    "    torch.nn.ConvTranspose2d(in_channels, out_channels, \n",
    "    kernel_size, stride=1, padding=0, \n",
    "    output_padding=0, groups=1, bias=True, \n",
    "    dilation=1, padding_mode='zeros')\n",
    "    \"\"\"\n",
    "    def __init__(self, nz=100, nch_g=128, nch=1):\n",
    "        super(Generator,self).__init__()\n",
    "        self.layers=nn.ModuleDict({\n",
    "            'layer0':nn.Sequential(\n",
    "            nn.ConvTranspose2d(nz,nch_g*4,3,1,0),\n",
    "            nn.BatchNorm2d(nch_g*4),\n",
    "            nn.ReLU()),\n",
    "            'layer1':nn.Sequential(\n",
    "            nn.ConvTranspose2d(nch_g*4,nch_g*2,3,2,0),\n",
    "            nn.BatchNorm2d(nch_g*2),\n",
    "            nn.ReLU()),\n",
    "            'layer2':nn.Sequential(\n",
    "            nn.ConvTranspose2d(nch_g*2,nch_g,4,2,1),\n",
    "            nn.BatchNorm2d(nch_g),\n",
    "            nn.ReLU()),\n",
    "            'layer3':nn.Sequential(\n",
    "            nn.ConvTranspose2d(nch_g,nch,4,2,1),\n",
    "            nn.Tanh())\n",
    "        })\n",
    "    \n",
    "    def forward(self,z):\n",
    "        for layer in self.layers.values():\n",
    "            z=layer(z)\n",
    "        return z\n",
    "    "
   ]
  },
  {
   "cell_type": "code",
   "execution_count": 11,
   "metadata": {},
   "outputs": [],
   "source": [
    "class Discriminator(nn.Module):\n",
    "    def __init__(self, nch=1, nch_d=128):\n",
    "        \"\"\"\n",
    "        :param nch: 入力画像のチャネル数\n",
    "        :param nch_d: 先頭層の出力チャネル数\n",
    "        \"\"\"\n",
    "        super(Discriminator, self).__init__()\n",
    "\n",
    "        # ニューラルネットワークの構造を定義する\n",
    "        self.layers = nn.ModuleDict({\n",
    "            'layer0': nn.Sequential(\n",
    "                nn.Conv2d(nch, nch_d, 4, 2, 1),     # 畳み込み\n",
    "                nn.LeakyReLU(negative_slope=0.2)    # leaky ReLU関数\n",
    "            ),  # (B, nch, 28, 28) -> (B, nch_d, 14, 14)\n",
    "            'layer1': nn.Sequential(\n",
    "                nn.Conv2d(nch_d, nch_d * 2, 4, 2, 1),\n",
    "                nn.BatchNorm2d(nch_d * 2),\n",
    "                nn.LeakyReLU(negative_slope=0.2)\n",
    "            ),  # (B, nch_d, 14, 14) -> (B, nch_d*2, 7, 7)\n",
    "            'layer2': nn.Sequential(\n",
    "                nn.Conv2d(nch_d * 2, nch_d * 4, 3, 2, 0),\n",
    "                nn.BatchNorm2d(nch_d * 4),\n",
    "                nn.LeakyReLU(negative_slope=0.2)\n",
    "            ),  # (B, nch_d*2, 7, 7) -> (B, nch_d*4, 3, 3)\n",
    "            'layer3': nn.Sequential(\n",
    "                nn.Conv2d(nch_d * 4, 1, 3, 1, 0),\n",
    "                nn.Sigmoid()    # Sigmoid関数\n",
    "            )    \n",
    "            # (B, nch_d*4, 3, 3) -> (B, 1, 1, 1)\n",
    "        })\n",
    "\n",
    "    def forward(self, x):\n",
    "    \n",
    "        for layer in self.layers.values():  # self.layersの各層で演算を行う\n",
    "            x = layer(x)\n",
    "        return x.squeeze()     # Tensorの形状を(B)に変更して戻り値とする"
   ]
  },
  {
   "cell_type": "code",
   "execution_count": 12,
   "metadata": {},
   "outputs": [],
   "source": [
    "def weights_init(m):\n",
    "    classname = m.__class__.__name__\n",
    "    if classname.find('Conv') != -1:          \n",
    "        m.weight.data.normal_(0.0, 0.02)\n",
    "        m.bias.data.fill_(0)\n",
    "    elif classname.find('Linear') != -1:      \n",
    "        m.bias.data.fill_(0)\n",
    "    elif classname.find('BatchNorm') != -1:   \n",
    "        m.weight.data.normal_(1.0, 0.02)\n",
    "        m.bias.data.fill_(0)"
   ]
  },
  {
   "cell_type": "code",
   "execution_count": 13,
   "metadata": {},
   "outputs": [
    {
     "name": "stdout",
     "output_type": "stream",
     "text": [
      "----------------------------------------------------------------\n",
      "        Layer (type)               Output Shape         Param #\n",
      "================================================================\n",
      "   ConvTranspose2d-1            [-1, 512, 3, 3]         507,392\n",
      "       BatchNorm2d-2            [-1, 512, 3, 3]           1,024\n",
      "              ReLU-3            [-1, 512, 3, 3]               0\n",
      "   ConvTranspose2d-4            [-1, 256, 7, 7]       1,179,904\n",
      "       BatchNorm2d-5            [-1, 256, 7, 7]             512\n",
      "              ReLU-6            [-1, 256, 7, 7]               0\n",
      "   ConvTranspose2d-7          [-1, 128, 14, 14]         524,416\n",
      "       BatchNorm2d-8          [-1, 128, 14, 14]             256\n",
      "              ReLU-9          [-1, 128, 14, 14]               0\n",
      "  ConvTranspose2d-10            [-1, 1, 28, 28]           2,049\n",
      "             Tanh-11            [-1, 1, 28, 28]               0\n",
      "================================================================\n",
      "Total params: 2,215,553\n",
      "Trainable params: 2,215,553\n",
      "Non-trainable params: 0\n",
      "----------------------------------------------------------------\n",
      "Input size (MB): 0.00\n",
      "Forward/backward pass size (MB): 0.98\n",
      "Params size (MB): 8.45\n",
      "Estimated Total Size (MB): 9.43\n",
      "----------------------------------------------------------------\n"
     ]
    }
   ],
   "source": [
    "gnet=Generator(nz=nz+10, nch_g=nch_g).to(device)\n",
    "gnet.apply(weights_init)\n",
    "torchsummary.summary(gnet, (110, 1, 1))"
   ]
  },
  {
   "cell_type": "code",
   "execution_count": 14,
   "metadata": {},
   "outputs": [
    {
     "name": "stdout",
     "output_type": "stream",
     "text": [
      "----------------------------------------------------------------\n",
      "        Layer (type)               Output Shape         Param #\n",
      "================================================================\n",
      "            Conv2d-1          [-1, 128, 14, 14]          22,656\n",
      "         LeakyReLU-2          [-1, 128, 14, 14]               0\n",
      "            Conv2d-3            [-1, 256, 7, 7]         524,544\n",
      "       BatchNorm2d-4            [-1, 256, 7, 7]             512\n",
      "         LeakyReLU-5            [-1, 256, 7, 7]               0\n",
      "            Conv2d-6            [-1, 512, 3, 3]       1,180,160\n",
      "       BatchNorm2d-7            [-1, 512, 3, 3]           1,024\n",
      "         LeakyReLU-8            [-1, 512, 3, 3]               0\n",
      "            Conv2d-9              [-1, 1, 1, 1]           4,609\n",
      "          Sigmoid-10              [-1, 1, 1, 1]               0\n",
      "================================================================\n",
      "Total params: 1,733,505\n",
      "Trainable params: 1,733,505\n",
      "Non-trainable params: 0\n",
      "----------------------------------------------------------------\n",
      "Input size (MB): 0.03\n",
      "Forward/backward pass size (MB): 0.78\n",
      "Params size (MB): 6.61\n",
      "Estimated Total Size (MB): 7.42\n",
      "----------------------------------------------------------------\n"
     ]
    }
   ],
   "source": [
    "dnet=Discriminator(nch=1+10, nch_d=nch_d).to(device)\n",
    "dnet.apply(weights_init)\n",
    "torchsummary.summary(dnet, (11, 28, 28))"
   ]
  },
  {
   "cell_type": "code",
   "execution_count": 15,
   "metadata": {},
   "outputs": [],
   "source": [
    "criterion=nn.BCELoss()\n"
   ]
  },
  {
   "cell_type": "code",
   "execution_count": 16,
   "metadata": {},
   "outputs": [],
   "source": [
    "def onehot_encoder(label,device,n_class=10):\n",
    "    eye=torch.eye(n_class,device=device)\n",
    "    return eye[label].view(-1,n_class,1,1)\n"
   ]
  },
  {
   "cell_type": "code",
   "execution_count": 17,
   "metadata": {},
   "outputs": [],
   "source": [
    "def concat_img_label(img,label,device,n_class=10):\n",
    "    B,C,H,W=img.shape\n",
    "    oh_label=onehot_encoder(label,device)\n",
    "    oh_label=oh_label.expand(B,n_class,H,W)\n",
    "    return torch.cat((img,oh_label),dim=1)"
   ]
  },
  {
   "cell_type": "code",
   "execution_count": 18,
   "metadata": {},
   "outputs": [],
   "source": [
    "def concat_noise_label(noise,label,device):\n",
    "    oh_label=onehot_encoder(label,device)\n",
    "    return torch.cat((noise,oh_label),dim=1)"
   ]
  },
  {
   "cell_type": "code",
   "execution_count": 19,
   "metadata": {},
   "outputs": [],
   "source": [
    "\n",
    "fixed_noise=torch.randn(batch_size,nz,1,1,device=device)\n",
    "fixed_label=[i for i in range(10)]*(batch_size//10)"
   ]
  },
  {
   "cell_type": "code",
   "execution_count": 20,
   "metadata": {},
   "outputs": [],
   "source": [
    "fixed_label=torch.tensor(fixed_label,dtype=torch.long,device=device)"
   ]
  },
  {
   "cell_type": "code",
   "execution_count": 21,
   "metadata": {},
   "outputs": [],
   "source": [
    "fixed_noise_label=concat_noise_label(fixed_noise,fixed_label,device)"
   ]
  },
  {
   "cell_type": "code",
   "execution_count": 22,
   "metadata": {},
   "outputs": [],
   "source": [
    "\n",
    "optimizerD=optimizers.Adam(dnet.parameters(),lr=lr,betas=(beta1,0.999),weight_decay=1e-5)\n",
    "optimizerG=optimizers.Adam(gnet.parameters(),lr=lr,betas=(beta1,0.999),weight_decay=1e-5)\n"
   ]
  },
  {
   "cell_type": "code",
   "execution_count": 23,
   "metadata": {},
   "outputs": [
    {
     "name": "stdout",
     "output_type": "stream",
     "text": [
      "[1/10][1/1200] Loss_D: 1.863 Loss_G: 1.441 D(x): 0.415 D(G(z)): 0.508/0.360\n",
      "[1/10][601/1200] Loss_D: 0.708 Loss_G: 2.323 D(x): 0.773 D(G(z)): 0.310/0.127\n",
      "[2/10][1/1200] Loss_D: 2.107 Loss_G: 0.689 D(x): 0.300 D(G(z)): 0.353/0.576\n",
      "[2/10][601/1200] Loss_D: 1.162 Loss_G: 1.230 D(x): 0.612 D(G(z)): 0.428/0.323\n",
      "[3/10][1/1200] Loss_D: 1.563 Loss_G: 1.321 D(x): 0.569 D(G(z)): 0.576/0.312\n",
      "[3/10][601/1200] Loss_D: 1.543 Loss_G: 1.116 D(x): 0.874 D(G(z)): 0.709/0.367\n",
      "[4/10][1/1200] Loss_D: 1.179 Loss_G: 1.229 D(x): 0.583 D(G(z)): 0.422/0.320\n",
      "[4/10][601/1200] Loss_D: 0.908 Loss_G: 1.474 D(x): 0.814 D(G(z)): 0.480/0.252\n",
      "[5/10][1/1200] Loss_D: 1.240 Loss_G: 1.288 D(x): 0.643 D(G(z)): 0.514/0.294\n",
      "[5/10][601/1200] Loss_D: 0.973 Loss_G: 1.096 D(x): 0.618 D(G(z)): 0.346/0.362\n",
      "[6/10][1/1200] Loss_D: 2.222 Loss_G: 0.842 D(x): 0.507 D(G(z)): 0.744/0.455\n",
      "[6/10][601/1200] Loss_D: 1.063 Loss_G: 1.575 D(x): 0.656 D(G(z)): 0.430/0.234\n",
      "[7/10][1/1200] Loss_D: 0.858 Loss_G: 1.262 D(x): 0.794 D(G(z)): 0.436/0.303\n",
      "[7/10][601/1200] Loss_D: 0.853 Loss_G: 1.672 D(x): 0.708 D(G(z)): 0.352/0.221\n",
      "[8/10][1/1200] Loss_D: 1.084 Loss_G: 1.452 D(x): 0.743 D(G(z)): 0.501/0.259\n",
      "[8/10][601/1200] Loss_D: 0.878 Loss_G: 1.790 D(x): 0.683 D(G(z)): 0.354/0.192\n",
      "[9/10][1/1200] Loss_D: 1.217 Loss_G: 1.753 D(x): 0.731 D(G(z)): 0.550/0.192\n",
      "[9/10][601/1200] Loss_D: 1.695 Loss_G: 0.980 D(x): 0.288 D(G(z)): 0.251/0.428\n",
      "[10/10][1/1200] Loss_D: 1.391 Loss_G: 1.029 D(x): 0.375 D(G(z)): 0.236/0.385\n",
      "[10/10][601/1200] Loss_D: 0.815 Loss_G: 1.393 D(x): 0.594 D(G(z)): 0.199/0.276\n"
     ]
    }
   ],
   "source": [
    "\n",
    "G_losses = []\n",
    "D_losses = []\n",
    "D_x_out = []\n",
    "D_G_z1_out = []\n",
    "\n",
    "\n",
    "display_interval = 600\n",
    "\n",
    "\n",
    "for epoch in range(n_epoch):\n",
    "    for itr,data in enumerate(dataloader):\n",
    "        real_img=data[0].to(device)\n",
    "        real_label=data[1].to(device)\n",
    "        \n",
    "        real_img_label=concat_img_label(real_img,real_label,device)\n",
    "\n",
    "        sample_size=real_img.size(0)\n",
    "        \n",
    "        noise=torch.randn(sample_size,nz,1,1,device=device)\n",
    "        fake_label=torch.randint(10,(sample_size,),dtype=torch.long,device=device)\n",
    "        \n",
    "        fake_noise_label=concat_noise_label(noise,fake_label,device)\n",
    "        \n",
    "    \n",
    "        real_target=torch.full((sample_size,),1.,device=device)\n",
    "        \n",
    "        fake_target=torch.full((sample_size,),0.,device=device)\n",
    "        \n",
    "        dnet.zero_grad()\n",
    "        \n",
    "        out=dnet(real_img_label)\n",
    "        err_d_real=criterion(out,real_target)\n",
    "        \n",
    "        D_x=out.mean().item()\n",
    "        \n",
    "        fake_img=gnet(fake_noise_label)\n",
    "        \n",
    "        fake_img_label=concat_img_label(fake_img,fake_label,device)\n",
    "        \n",
    "        out=dnet(fake_img_label.detach())\n",
    "        err_d_fake=criterion(out,fake_target)\n",
    "        \n",
    "        D_G_z1=out.mean().item()\n",
    "        \n",
    "        err_d=err_d_fake+err_d_real\n",
    "        \n",
    "        err_d.backward()\n",
    "        \n",
    "        optimizerD.step()\n",
    "        \n",
    "        \n",
    "        gnet.zero_grad()\n",
    "        \n",
    "        out=dnet(fake_img_label)\n",
    "        \n",
    "        errG=criterion(out,real_target)\n",
    "        \n",
    "        errG.backward()\n",
    "        \n",
    "        D_G_z2=out.mean().item()\n",
    "        \n",
    "        optimizerG.step()\n",
    "        \n",
    "        if itr % display_interval == 0: \n",
    "            print('[{}/{}][{}/{}] Loss_D: {:.3f} Loss_G: {:.3f} D(x): {:.3f} D(G(z)): {:.3f}/{:.3f}'\n",
    "                  .format(epoch + 1, n_epoch,\n",
    "                          itr + 1, len(dataloader),\n",
    "                          err_d.item(), errG.item(), D_x, D_G_z1, D_G_z2))\n",
    "\n",
    "        if epoch == 0 and itr == 0:     \n",
    "            vutils.save_image(real_img, '{}/real_samples.png'.format(outf),\n",
    "                              normalize=True, nrow=10)\n",
    "\n",
    "\n",
    "        D_losses.append(err_d.item())\n",
    "        G_losses.append(errG.item())\n",
    "        D_x_out.append(D_x)\n",
    "        D_G_z1_out.append(D_G_z1)\n",
    "\n",
    "    ############################\n",
    "    # 確認用画像の生成\n",
    "    ############################\n",
    "    fake_image = gnet(fixed_noise_label)  # 1エポック終了ごとに確認用の生成画像を生成する\n",
    "    vutils.save_image(fake_image.detach(), '{}/fake_samples_epoch_{:03d}.png'.format(outf, epoch + 1),\n",
    "                      normalize=True, nrow=10)\n",
    "\n",
    "    ############################\n",
    "    # モデルの保存\n",
    "    ############################\n",
    "    if (epoch + 1) % 10 == 0:   # 10エポックごとにモデルを保存する\n",
    "        torch.save(gnet.state_dict(), '{}/netG_epoch_{}.pth'.format(outf, epoch + 1))\n",
    "        torch.save(dnet.state_dict(), '{}/netD_epoch_{}.pth'.format(outf, epoch + 1))"
   ]
  },
  {
   "cell_type": "code",
   "execution_count": 36,
   "metadata": {},
   "outputs": [
    {
     "name": "stdout",
     "output_type": "stream",
     "text": [
      "(40, 1, 28, 28)\n",
      "torch.Size([40, 100, 1, 1])\n",
      "torch.Size([15, 110, 1, 1])\n"
     ]
    },
    {
     "data": {
      "image/png": "[encoded data removed]",
      "text/plain": [
       "<Figure size 720x216 with 55 Axes>"
      ]
     },
     "metadata": {},
     "output_type": "display_data"
    }
   ],
   "source": [
    "n_s=40\n",
    "n_move=15\n",
    "\n",
    "\n",
    "ims=[]\n",
    "\n",
    "fig = plt.figure(figsize=(10, 3))\n",
    "\n",
    "noise=torch.randn(n_s,nz,1,1,device=device)\n",
    "fake_label=torch.randint(10,(n_s,),dtype=torch.long,device=device)\n",
    "        \n",
    "fake_noise_label=concat_noise_label(noise,fake_label,device)\n",
    "x = gnet(fake_noise_label)  \n",
    "x = x.to('cpu').detach().numpy().copy()\n",
    "\n",
    "print(x.shape)\n",
    "for i in range(n_s):\n",
    "    ax = fig.add_subplot(6, 15, i+1, xticks=[], yticks=[])\n",
    "    ax.imshow(x[i][0], 'gray')\n",
    "    \n",
    "print(fixed_noise.shape)\n",
    "z1to0_noise = torch.cat([fixed_noise_label[7] * (i * 0.1) + fixed_noise_label[2] * ((9 - i) * 0.1) for i in range(n_move)]).reshape(n_move,110,1,1)\n",
    "print(z1to0_noise .shape)\n",
    "\n",
    "fake_image = gnet(z1to0_noise )  \n",
    "x = fake_image.to('cpu').detach().numpy().copy()\n",
    "for i in range(n_move):\n",
    "    ax = fig.add_subplot(6, 15, i+46, xticks=[], yticks=[])\n",
    "    imm=Image.fromarray(np.uint8(cm.gist_earth(x[i][0])*255))\n",
    "    ims.append(imm)\n",
    "    ax.imshow(x[i][0], 'gray')"
   ]
  },
  {
   "cell_type": "code",
   "execution_count": 38,
   "metadata": {},
   "outputs": [],
   "source": [
    "ims[0].save('cgan.gif' , save_all = True , append_images = ims[1:] , duration = 400 , loop = 0)"
   ]
  }
 ],
 "metadata": {
  "kernelspec": {
   "display_name": "Python 3",
   "language": "python",
   "name": "python3"
  },
  "language_info": {
   "codemirror_mode": {
    "name": "ipython",
    "version": 3
   },
   "file_extension": ".py",
   "mimetype": "text/x-python",
   "name": "python",
   "nbconvert_exporter": "python",
   "pygments_lexer": "ipython3",
   "version": "3.6.6"
  }
 },
 "nbformat": 4,
 "nbformat_minor": 2
}
