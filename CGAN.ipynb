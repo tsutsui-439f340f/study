{
 "cells": [
  {
   "cell_type": "code",
   "execution_count": 1,
   "metadata": {},
   "outputs": [],
   "source": [
    "import numpy as np\n",
    "import matplotlib.pyplot as plt\n",
    "import torch\n",
    "import torch.nn as nn\n",
    "import torch.optim as optimizers\n",
    "import torchvision\n",
    "import os\n",
    "import torchvision.datasets as dset\n",
    "import torchvision.transforms as transforms\n",
    "import torchvision.utils as vutils\n",
    "import torch.utils.data\n",
    "import torchsummary\n",
    "from PIL import Image\n",
    "from matplotlib import cm"
   ]
  },
  {
   "cell_type": "code",
   "execution_count": 2,
   "metadata": {},
   "outputs": [],
   "source": [
    "outf = 'result_3_2-CGAN'"
   ]
  },
  {
   "cell_type": "code",
   "execution_count": 3,
   "metadata": {},
   "outputs": [],
   "source": [
    "try:\n",
    "    os.makedirs(outf, exist_ok=True)\n",
    "except OSError as error: \n",
    "    print(error)\n",
    "    pass"
   ]
  },
  {
   "cell_type": "code",
   "execution_count": 4,
   "metadata": {},
   "outputs": [],
   "source": [
    "workers=2\n",
    "batch_size=50\n",
    "nz=100\n",
    "nch_g=128\n",
    "nch_d=128\n",
    "n_epoch=10\n",
    "lr=0.0002\n",
    "beta1=0.5"
   ]
  },
  {
   "cell_type": "code",
   "execution_count": null,
   "metadata": {},
   "outputs": [],
   "source": [
    "root = os.path.join('data', 'mnist')\n",
    "transform = transforms.Compose([transforms.ToTensor(),\n",
    "                                transforms.Normalize((0.5,),(0.5,))])\n",
    "mnist_train =torchvision.datasets.MNIST(root=root,\n",
    "                                      download=True,\n",
    "                                      train=True,\n",
    "                                      transform=transform)\n",
    "dataloader = torch.utils.data.DataLoader(mnist_train, batch_size=batch_size,\n",
    "                                         shuffle=True, num_workers=int(workers))\n",
    "\n",
    "# 学習に使用するデバイスを得る。可能ならGPUを使用する\n",
    "device = torch.device(\"cuda:0\" if torch.cuda.is_available() else \"cpu\")\n",
    "print('device:', device)"
   ]
  },
  {
   "cell_type": "code",
   "execution_count": 6,
   "metadata": {},
   "outputs": [],
   "source": [
    "class Generator(nn.Module):\n",
    "    \"\"\"\n",
    "    torch.nn.ConvTranspose2d(in_channels, out_channels, \n",
    "    kernel_size, stride=1, padding=0, \n",
    "    output_padding=0, groups=1, bias=True, \n",
    "    dilation=1, padding_mode='zeros')\n",
    "    \"\"\"\n",
    "    def __init__(self, nz=100, nch_g=128, nch=1):\n",
    "        super(Generator,self).__init__()\n",
    "        self.layers=nn.ModuleDict({\n",
    "            'layer0':nn.Sequential(\n",
    "            nn.ConvTranspose2d(nz,nch_g*4,3,1,0),\n",
    "            nn.BatchNorm2d(nch_g*4),\n",
    "            nn.ReLU()),\n",
    "            'layer1':nn.Sequential(\n",
    "            nn.ConvTranspose2d(nch_g*4,nch_g*2,3,2,0),\n",
    "            nn.BatchNorm2d(nch_g*2),\n",
    "            nn.ReLU()),\n",
    "            'layer2':nn.Sequential(\n",
    "            nn.ConvTranspose2d(nch_g*2,nch_g,4,2,1),\n",
    "            nn.BatchNorm2d(nch_g),\n",
    "            nn.ReLU()),\n",
    "            'layer3':nn.Sequential(\n",
    "            nn.ConvTranspose2d(nch_g,nch,4,2,1),\n",
    "            nn.Tanh())\n",
    "        })\n",
    "    \n",
    "    def forward(self,z):\n",
    "        for layer in self.layers.values():\n",
    "            z=layer(z)\n",
    "        return z\n",
    "    "
   ]
  },
  {
   "cell_type": "code",
   "execution_count": 5,
   "metadata": {},
   "outputs": [],
   "source": [
    "class Discriminator(nn.Module):\n",
    "    def __init__(self, nch=1, nch_d=128):\n",
    "        \n",
    "        super(Discriminator, self).__init__()\n",
    "\n",
    "    \n",
    "        self.layers = nn.ModuleDict({\n",
    "            'layer0': nn.Sequential(\n",
    "                nn.Conv2d(nch, nch_d, 4, 2, 1),     \n",
    "                nn.LeakyReLU(negative_slope=0.2)   \n",
    "            ), \n",
    "            'layer1': nn.Sequential(\n",
    "                nn.Conv2d(nch_d, nch_d * 2, 4, 2, 1),\n",
    "                nn.BatchNorm2d(nch_d * 2),\n",
    "                nn.LeakyReLU(negative_slope=0.2)\n",
    "            ), \n",
    "            'layer2': nn.Sequential(\n",
    "                nn.Conv2d(nch_d * 2, nch_d * 4, 3, 2, 0),\n",
    "                nn.BatchNorm2d(nch_d * 4),\n",
    "                nn.LeakyReLU(negative_slope=0.2)\n",
    "            ), \n",
    "            'layer3': nn.Sequential(\n",
    "                nn.Conv2d(nch_d * 4, 1, 3, 1, 0),\n",
    "                nn.Sigmoid()   \n",
    "            )    \n",
    "            \n",
    "        })\n",
    "\n",
    "    def forward(self, x):\n",
    "    \n",
    "        for layer in self.layers.values():  \n",
    "            x = layer(x)\n",
    "        return x.squeeze()  "
   ]
  },
  {
   "cell_type": "code",
   "execution_count": 7,
   "metadata": {},
   "outputs": [],
   "source": [
    "def weights_init(m):\n",
    "    classname = m.__class__.__name__\n",
    "    if classname.find('Conv') != -1:          \n",
    "        m.weight.data.normal_(0.0, 0.02)\n",
    "        m.bias.data.fill_(0)\n",
    "    elif classname.find('Linear') != -1:      \n",
    "        m.bias.data.fill_(0)\n",
    "    elif classname.find('BatchNorm') != -1:   \n",
    "        m.weight.data.normal_(1.0, 0.02)\n",
    "        m.bias.data.fill_(0)"
   ]
  },
  {
   "cell_type": "code",
   "execution_count": null,
   "metadata": {},
   "outputs": [],
   "source": []
  }
 ],
 "metadata": {
  "kernelspec": {
   "display_name": "Python 3",
   "language": "python",
   "name": "python3"
  },
  "language_info": {
   "codemirror_mode": {
    "name": "ipython",
    "version": 3
   },
   "file_extension": ".py",
   "mimetype": "text/x-python",
   "name": "python",
   "nbconvert_exporter": "python",
   "pygments_lexer": "ipython3",
   "version": "3.6.6"
  }
 },
 "nbformat": 4,
 "nbformat_minor": 2
}
