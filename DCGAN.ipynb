{
 "cells": [
  {
   "cell_type": "code",
   "execution_count": 60,
   "metadata": {},
   "outputs": [],
   "source": [
    "import numpy as np\n",
    "import matplotlib.pyplot as plt\n",
    "import torch\n",
    "import torch.nn as nn\n",
    "import torch.optim as optimizers\n",
    "import torchvision\n",
    "import os\n",
    "import torchvision.datasets as dset\n",
    "import torchvision.transforms as transforms\n",
    "import torchvision.utils as vutils\n",
    "import torch.utils.data\n",
    "import torchsummary\n",
    "from PIL import Image\n",
    "from matplotlib import cm"
   ]
  },
  {
   "cell_type": "code",
   "execution_count": 2,
   "metadata": {},
   "outputs": [],
   "source": [
    "outf = 'result_3_2-DCGAN'"
   ]
  },
  {
   "cell_type": "code",
   "execution_count": null,
   "metadata": {},
   "outputs": [],
   "source": [
    "try:\n",
    "    os.makedirs(outf, exist_ok=True)\n",
    "except OSError as error: \n",
    "    print(error)\n",
    "    pass"
   ]
  },
  {
   "cell_type": "code",
   "execution_count": 3,
   "metadata": {},
   "outputs": [],
   "source": [
    "workers=2\n",
    "batch_size=50\n",
    "nz=100\n",
    "nch_g=128\n",
    "nch_d=128\n",
    "n_epoch=10\n",
    "lr=0.0002\n",
    "beta1=0.5\n"
   ]
  },
  {
   "cell_type": "code",
   "execution_count": 4,
   "metadata": {},
   "outputs": [],
   "source": [
    "root = os.path.join('data', 'mnist')\n",
    "transform = transforms.Compose([transforms.ToTensor(),\n",
    "                                transforms.Normalize((0.5,),(0.5,))])\n",
    "mnist_train =torchvision.datasets.MNIST(root=root,\n",
    "                                      download=True,\n",
    "                                      train=True,\n",
    "                                      transform=transform)"
   ]
  },
  {
   "cell_type": "code",
   "execution_count": 5,
   "metadata": {},
   "outputs": [
    {
     "name": "stdout",
     "output_type": "stream",
     "text": [
      "device: cuda:0\n"
     ]
    }
   ],
   "source": [
    "dataloader = torch.utils.data.DataLoader(mnist_train, batch_size=batch_size,\n",
    "                                         shuffle=True, num_workers=int(workers))\n",
    "\n",
    "# 学習に使用するデバイスを得る。可能ならGPUを使用する\n",
    "device = torch.device(\"cuda:0\" if torch.cuda.is_available() else \"cpu\")\n",
    "print('device:', device)"
   ]
  },
  {
   "cell_type": "code",
   "execution_count": 6,
   "metadata": {},
   "outputs": [],
   "source": [
    "class Generator(nn.Module):\n",
    "    \"\"\"\n",
    "    torch.nn.ConvTranspose2d(in_channels, out_channels, \n",
    "    kernel_size, stride=1, padding=0, \n",
    "    output_padding=0, groups=1, bias=True, \n",
    "    dilation=1, padding_mode='zeros')\n",
    "    \"\"\"\n",
    "    def __init__(self, nz=100, nch_g=128, nch=1):\n",
    "        super(Generator,self).__init__()\n",
    "        self.layers=nn.ModuleDict({\n",
    "            'layer0':nn.Sequential(\n",
    "            nn.ConvTranspose2d(nz,nch_g*4,3,1,0),\n",
    "            nn.BatchNorm2d(nch_g*4),\n",
    "            nn.ReLU()),\n",
    "            'layer1':nn.Sequential(\n",
    "            nn.ConvTranspose2d(nch_g*4,nch_g*2,3,2,0),\n",
    "            nn.BatchNorm2d(nch_g*2),\n",
    "            nn.ReLU()),\n",
    "            'layer2':nn.Sequential(\n",
    "            nn.ConvTranspose2d(nch_g*2,nch_g,4,2,1),\n",
    "            nn.BatchNorm2d(nch_g),\n",
    "            nn.ReLU()),\n",
    "            'layer3':nn.Sequential(\n",
    "            nn.ConvTranspose2d(nch_g,nch,4,2,1),\n",
    "            nn.Tanh())\n",
    "        })\n",
    "    \n",
    "    def forward(self,z):\n",
    "        for layer in self.layers.values():\n",
    "            z=layer(z)\n",
    "        return z\n",
    "    "
   ]
  },
  {
   "cell_type": "code",
   "execution_count": 7,
   "metadata": {},
   "outputs": [],
   "source": [
    "class Discriminator(nn.Module):\n",
    "    def __init__(self, nch=1, nch_d=128):\n",
    "        \"\"\"\n",
    "        :param nch: 入力画像のチャネル数\n",
    "        :param nch_d: 先頭層の出力チャネル数\n",
    "        \"\"\"\n",
    "        super(Discriminator, self).__init__()\n",
    "\n",
    "        # ニューラルネットワークの構造を定義する\n",
    "        self.layers = nn.ModuleDict({\n",
    "            'layer0': nn.Sequential(\n",
    "                nn.Conv2d(nch, nch_d, 4, 2, 1),     # 畳み込み\n",
    "                nn.LeakyReLU(negative_slope=0.2)    # leaky ReLU関数\n",
    "            ),  # (B, nch, 28, 28) -> (B, nch_d, 14, 14)\n",
    "            'layer1': nn.Sequential(\n",
    "                nn.Conv2d(nch_d, nch_d * 2, 4, 2, 1),\n",
    "                nn.BatchNorm2d(nch_d * 2),\n",
    "                nn.LeakyReLU(negative_slope=0.2)\n",
    "            ),  # (B, nch_d, 14, 14) -> (B, nch_d*2, 7, 7)\n",
    "            'layer2': nn.Sequential(\n",
    "                nn.Conv2d(nch_d * 2, nch_d * 4, 3, 2, 0),\n",
    "                nn.BatchNorm2d(nch_d * 4),\n",
    "                nn.LeakyReLU(negative_slope=0.2)\n",
    "            ),  # (B, nch_d*2, 7, 7) -> (B, nch_d*4, 3, 3)\n",
    "            'layer3': nn.Sequential(\n",
    "                nn.Conv2d(nch_d * 4, 1, 3, 1, 0),\n",
    "                nn.Sigmoid()    # Sigmoid関数\n",
    "            )    \n",
    "            # (B, nch_d*4, 3, 3) -> (B, 1, 1, 1)\n",
    "        })\n",
    "\n",
    "    def forward(self, x):\n",
    "    \n",
    "        for layer in self.layers.values():  # self.layersの各層で演算を行う\n",
    "            x = layer(x)\n",
    "        return x.squeeze()     # Tensorの形状を(B)に変更して戻り値とする"
   ]
  },
  {
   "cell_type": "code",
   "execution_count": 8,
   "metadata": {},
   "outputs": [],
   "source": [
    "def weights_init(m):\n",
    "    classname = m.__class__.__name__\n",
    "    if classname.find('Conv') != -1:          \n",
    "        m.weight.data.normal_(0.0, 0.02)\n",
    "        m.bias.data.fill_(0)\n",
    "    elif classname.find('Linear') != -1:      \n",
    "        m.bias.data.fill_(0)\n",
    "    elif classname.find('BatchNorm') != -1:   \n",
    "        m.weight.data.normal_(1.0, 0.02)\n",
    "        m.bias.data.fill_(0)"
   ]
  },
  {
   "cell_type": "code",
   "execution_count": 9,
   "metadata": {},
   "outputs": [
    {
     "name": "stdout",
     "output_type": "stream",
     "text": [
      "----------------------------------------------------------------\n",
      "        Layer (type)               Output Shape         Param #\n",
      "================================================================\n",
      "   ConvTranspose2d-1            [-1, 512, 3, 3]         461,312\n",
      "       BatchNorm2d-2            [-1, 512, 3, 3]           1,024\n",
      "              ReLU-3            [-1, 512, 3, 3]               0\n",
      "   ConvTranspose2d-4            [-1, 256, 7, 7]       1,179,904\n",
      "       BatchNorm2d-5            [-1, 256, 7, 7]             512\n",
      "              ReLU-6            [-1, 256, 7, 7]               0\n",
      "   ConvTranspose2d-7          [-1, 128, 14, 14]         524,416\n",
      "       BatchNorm2d-8          [-1, 128, 14, 14]             256\n",
      "              ReLU-9          [-1, 128, 14, 14]               0\n",
      "  ConvTranspose2d-10            [-1, 1, 28, 28]           2,049\n",
      "             Tanh-11            [-1, 1, 28, 28]               0\n",
      "================================================================\n",
      "Total params: 2,169,473\n",
      "Trainable params: 2,169,473\n",
      "Non-trainable params: 0\n",
      "----------------------------------------------------------------\n",
      "Input size (MB): 0.00\n",
      "Forward/backward pass size (MB): 0.98\n",
      "Params size (MB): 8.28\n",
      "Estimated Total Size (MB): 9.26\n",
      "----------------------------------------------------------------\n"
     ]
    }
   ],
   "source": [
    "gnet=Generator().to(device)\n",
    "gnet.apply(weights_init)\n",
    "torchsummary.summary(gnet, (100, 1, 1))"
   ]
  },
  {
   "cell_type": "code",
   "execution_count": 10,
   "metadata": {},
   "outputs": [
    {
     "name": "stdout",
     "output_type": "stream",
     "text": [
      "----------------------------------------------------------------\n",
      "        Layer (type)               Output Shape         Param #\n",
      "================================================================\n",
      "            Conv2d-1          [-1, 128, 14, 14]           2,176\n",
      "         LeakyReLU-2          [-1, 128, 14, 14]               0\n",
      "            Conv2d-3            [-1, 256, 7, 7]         524,544\n",
      "       BatchNorm2d-4            [-1, 256, 7, 7]             512\n",
      "         LeakyReLU-5            [-1, 256, 7, 7]               0\n",
      "            Conv2d-6            [-1, 512, 3, 3]       1,180,160\n",
      "       BatchNorm2d-7            [-1, 512, 3, 3]           1,024\n",
      "         LeakyReLU-8            [-1, 512, 3, 3]               0\n",
      "            Conv2d-9              [-1, 1, 1, 1]           4,609\n",
      "          Sigmoid-10              [-1, 1, 1, 1]               0\n",
      "================================================================\n",
      "Total params: 1,713,025\n",
      "Trainable params: 1,713,025\n",
      "Non-trainable params: 0\n",
      "----------------------------------------------------------------\n",
      "Input size (MB): 0.00\n",
      "Forward/backward pass size (MB): 0.78\n",
      "Params size (MB): 6.53\n",
      "Estimated Total Size (MB): 7.31\n",
      "----------------------------------------------------------------\n"
     ]
    }
   ],
   "source": [
    "dnet=Discriminator().to(device)\n",
    "dnet.apply(weights_init)\n",
    "torchsummary.summary(dnet, (1, 28, 28))"
   ]
  },
  {
   "cell_type": "code",
   "execution_count": 11,
   "metadata": {},
   "outputs": [],
   "source": [
    "criterion=nn.BCELoss()\n",
    "\n",
    "fixed_noise=torch.randn(batch_size,nz,1,1,device=device)\n",
    "\n",
    "optimizerD=optimizers.Adam(dnet.parameters(),lr=lr,betas=(beta1,0.999),weight_decay=1e-5)\n",
    "optimizerG=optimizers.Adam(gnet.parameters(),lr=lr,betas=(beta1,0.999),weight_decay=1e-5)\n"
   ]
  },
  {
   "cell_type": "code",
   "execution_count": 12,
   "metadata": {},
   "outputs": [
    {
     "name": "stdout",
     "output_type": "stream",
     "text": [
      "[1/10][1/1200] Loss_D: 1.360 Loss_G: 2.754 D(x): 0.534 D(G(z)): 0.451/0.078\n",
      "[1/10][601/1200] Loss_D: 0.377 Loss_G: 2.571 D(x): 0.744 D(G(z)): 0.031/0.109\n",
      "[2/10][1/1200] Loss_D: 0.760 Loss_G: 3.603 D(x): 0.878 D(G(z)): 0.412/0.039\n",
      "[2/10][601/1200] Loss_D: 0.457 Loss_G: 2.157 D(x): 0.850 D(G(z)): 0.218/0.144\n",
      "[3/10][1/1200] Loss_D: 0.492 Loss_G: 2.817 D(x): 0.903 D(G(z)): 0.292/0.075\n",
      "[3/10][601/1200] Loss_D: 1.039 Loss_G: 1.109 D(x): 0.482 D(G(z)): 0.057/0.432\n",
      "[4/10][1/1200] Loss_D: 0.491 Loss_G: 1.970 D(x): 0.761 D(G(z)): 0.163/0.181\n",
      "[4/10][601/1200] Loss_D: 0.784 Loss_G: 3.646 D(x): 0.951 D(G(z)): 0.455/0.035\n",
      "[5/10][1/1200] Loss_D: 0.371 Loss_G: 3.533 D(x): 0.805 D(G(z)): 0.100/0.044\n",
      "[5/10][601/1200] Loss_D: 0.501 Loss_G: 2.769 D(x): 0.746 D(G(z)): 0.136/0.092\n",
      "[6/10][1/1200] Loss_D: 0.381 Loss_G: 3.096 D(x): 0.921 D(G(z)): 0.232/0.060\n",
      "[6/10][601/1200] Loss_D: 0.385 Loss_G: 3.822 D(x): 0.923 D(G(z)): 0.243/0.027\n",
      "[7/10][1/1200] Loss_D: 0.508 Loss_G: 4.526 D(x): 0.939 D(G(z)): 0.307/0.014\n",
      "[7/10][601/1200] Loss_D: 0.476 Loss_G: 2.249 D(x): 0.728 D(G(z)): 0.093/0.152\n",
      "[8/10][1/1200] Loss_D: 0.310 Loss_G: 3.102 D(x): 0.789 D(G(z)): 0.040/0.079\n",
      "[8/10][601/1200] Loss_D: 0.183 Loss_G: 3.206 D(x): 0.922 D(G(z)): 0.083/0.073\n",
      "[9/10][1/1200] Loss_D: 0.309 Loss_G: 3.761 D(x): 0.970 D(G(z)): 0.212/0.033\n",
      "[9/10][601/1200] Loss_D: 0.392 Loss_G: 3.495 D(x): 0.946 D(G(z)): 0.249/0.042\n",
      "[10/10][1/1200] Loss_D: 0.269 Loss_G: 4.573 D(x): 0.973 D(G(z)): 0.181/0.019\n",
      "[10/10][601/1200] Loss_D: 0.277 Loss_G: 4.580 D(x): 0.941 D(G(z)): 0.158/0.017\n"
     ]
    }
   ],
   "source": [
    "G_losses = []\n",
    "D_losses = []\n",
    "D_x_out = []\n",
    "D_G_z1_out = []\n",
    "\n",
    "\n",
    "display_interval = 600\n",
    "\n",
    "\n",
    "for epoch in range(n_epoch):\n",
    "    for itr,data in enumerate(dataloader):\n",
    "        real_img=data[0].to(device)\n",
    "\n",
    "        sample_size=real_img.size(0)\n",
    "        \n",
    "        noise=torch.randn(sample_size,nz,1,1,device=device)\n",
    "        \n",
    "        #正解ラベル\n",
    "        real_target=torch.full((sample_size,),1.,device=device)\n",
    "        \n",
    "        fake_target=torch.full((sample_size,),0.,device=device)\n",
    "        \n",
    "        dnet.zero_grad()\n",
    "        \n",
    "        out=dnet(real_img)\n",
    "        err_d_real=criterion(out,real_target)\n",
    "        \n",
    "        D_x=out.mean().item()\n",
    "        \n",
    "        fake_img=gnet(noise)\n",
    "        \n",
    "        out=dnet(fake_img.detach())\n",
    "        err_d_fake=criterion(out,fake_target)\n",
    "        \n",
    "        D_G_z1=out.mean().item()\n",
    "        \n",
    "        err_d=err_d_fake+err_d_real\n",
    "        \n",
    "        err_d.backward()\n",
    "        \n",
    "        optimizerD.step()\n",
    "        \n",
    "        \n",
    "        gnet.zero_grad()\n",
    "        \n",
    "        out=dnet(fake_img)\n",
    "        \n",
    "        errG=criterion(out,real_target)\n",
    "        \n",
    "        errG.backward()\n",
    "        \n",
    "        D_G_z2=out.mean().item()\n",
    "        \n",
    "        optimizerG.step()\n",
    "        \n",
    "        if itr % display_interval == 0: \n",
    "            print('[{}/{}][{}/{}] Loss_D: {:.3f} Loss_G: {:.3f} D(x): {:.3f} D(G(z)): {:.3f}/{:.3f}'\n",
    "                  .format(epoch + 1, n_epoch,\n",
    "                          itr + 1, len(dataloader),\n",
    "                          err_d.item(), errG.item(), D_x, D_G_z1, D_G_z2))\n",
    "\n",
    "        if epoch == 0 and itr == 0:     # 初回に本物画像を保存する\n",
    "            vutils.save_image(real_img, '{}/real_samples.png'.format(outf),\n",
    "                              normalize=True, nrow=10)\n",
    "\n",
    "        # ログ出力用データの保存\n",
    "        D_losses.append(err_d.item())\n",
    "        G_losses.append(errG.item())\n",
    "        D_x_out.append(D_x)\n",
    "        D_G_z1_out.append(D_G_z1)\n",
    "\n",
    "    ############################\n",
    "    # 確認用画像の生成\n",
    "    ############################\n",
    "    fake_image = gnet(fixed_noise)  # 1エポック終了ごとに確認用の生成画像を生成する\n",
    "    vutils.save_image(fake_image.detach(), '{}/fake_samples_epoch_{:03d}.png'.format(outf, epoch + 1),\n",
    "                      normalize=True, nrow=10)\n",
    "\n",
    "    ############################\n",
    "    # モデルの保存\n",
    "    ############################\n",
    "    if (epoch + 1) % 10 == 0:   # 10エポックごとにモデルを保存する\n",
    "        torch.save(gnet.state_dict(), '{}/netG_epoch_{}.pth'.format(outf, epoch + 1))\n",
    "        torch.save(dnet.state_dict(), '{}/netD_epoch_{}.pth'.format(outf, epoch + 1))"
   ]
  },
  {
   "cell_type": "code",
   "execution_count": 74,
   "metadata": {},
   "outputs": [
    {
     "name": "stdout",
     "output_type": "stream",
     "text": [
      "torch.Size([40, 100, 1, 1])\n",
      "torch.Size([15, 100, 1, 1])\n"
     ]
    },
    {
     "data": {
      "image/png": "[encoded data removed]",
      "text/plain": [
       "<Figure size 720x216 with 55 Axes>"
      ]
     },
     "metadata": {},
     "output_type": "display_data"
    }
   ],
   "source": [
    "n_s=40\n",
    "n_move=15\n",
    "\n",
    "\n",
    "ims=[]\n",
    "\n",
    "fig = plt.figure(figsize=(10, 3))\n",
    "\n",
    "# 本物画像から生成画像\n",
    "fixed_noise=torch.randn(n_s,nz,1,1,device=device)\n",
    "fake_image = gnet(fixed_noise)  # 1エポック終了ごとに確認用の生成画像を生成する\n",
    "x = fake_image.to('cpu').detach().numpy().copy()\n",
    "for i in range(n_s):\n",
    "    ax = fig.add_subplot(6, 15, i+1, xticks=[], yticks=[])\n",
    "    ax.imshow(x[i][0], 'gray')\n",
    "print(fixed_noise.shape)\n",
    "z1to0_noise = torch.cat([fixed_noise[1] * (i * 0.1) + fixed_noise[0] * ((9 - i) * 0.1) for i in range(n_move)]).reshape(n_move,100,1,1)\n",
    "print(z1to0_noise .shape)\n",
    "fake_image = gnet(z1to0_noise )  # 1エポック終了ごとに確認用の生成画像を生成する\n",
    "x = fake_image.to('cpu').detach().numpy().copy()\n",
    "for i in range(n_move):\n",
    "    ax = fig.add_subplot(6, 15, i+46, xticks=[], yticks=[])\n",
    "    imm=Image.fromarray(np.uint8(cm.gist_earth(x[i][0])*255))\n",
    "    ims.append(imm)\n",
    "    ax.imshow(x[i][0], 'gray')"
   ]
  },
  {
   "cell_type": "code",
   "execution_count": 68,
   "metadata": {},
   "outputs": [],
   "source": [
    "ims[0].save('dcgan.gif' , save_all = True , append_images = ims[1:] , duration = 400 , loop = 0)"
   ]
  }
 ],
 "metadata": {
  "kernelspec": {
   "display_name": "Python 3",
   "language": "python",
   "name": "python3"
  },
  "language_info": {
   "codemirror_mode": {
    "name": "ipython",
    "version": 3
   },
   "file_extension": ".py",
   "mimetype": "text/x-python",
   "name": "python",
   "nbconvert_exporter": "python",
   "pygments_lexer": "ipython3",
   "version": "3.6.6"
  }
 },
 "nbformat": 4,
 "nbformat_minor": 2
}
