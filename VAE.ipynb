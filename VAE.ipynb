{
 "cells": [
  {
   "cell_type": "code",
   "execution_count": 66,
   "metadata": {},
   "outputs": [],
   "source": [
    "import numpy as np\n",
    "import matplotlib.pyplot as plt\n",
    "import matplotlib.animation as animation\n",
    "import torch\n",
    "import torch.nn.functional as F\n",
    "import torch.optim as optimizers\n",
    "import torch.nn as nn\n",
    "from matplotlib import cm"
   ]
  },
  {
   "cell_type": "code",
   "execution_count": 45,
   "metadata": {},
   "outputs": [],
   "source": [
    "import torchvision\n",
    "import os\n",
    "from PIL import Image\n",
    "import glob\n",
    "import torchvision.transforms as transforms"
   ]
  },
  {
   "cell_type": "code",
   "execution_count": 23,
   "metadata": {},
   "outputs": [],
   "source": [
    "from torch.utils.data import Dataset,DataLoader\n",
    "from PIL import Image, ImageDraw"
   ]
  },
  {
   "cell_type": "code",
   "execution_count": 4,
   "metadata": {},
   "outputs": [],
   "source": [
    "device = torch.device('cuda' if torch.cuda.is_available() else 'cpu')\n",
    "\n",
    "# データの取得\n",
    "root = os.path.join('data', 'mnist')\n",
    "transform = transforms.Compose([transforms.ToTensor(),\n",
    "                                lambda x: x.view(-1)])\n",
    "mnist_train =torchvision.datasets.MNIST(root=root,\n",
    "                                      download=True,\n",
    "                                      train=True,\n",
    "                                      transform=transform)\n",
    "mnist_test = torchvision.datasets.MNIST(root=root,\n",
    "                                      download=True,\n",
    "                                      train=False,\n",
    "                                      transform=transform)\n",
    "train_dataloader = DataLoader(mnist_train,\n",
    "                              batch_size=100,\n",
    "                              shuffle=True)\n",
    "test_dataloader = DataLoader(mnist_test,\n",
    "                              batch_size=100,\n",
    "                              shuffle=False)"
   ]
  },
  {
   "cell_type": "code",
   "execution_count": 5,
   "metadata": {},
   "outputs": [],
   "source": [
    "class VAE(nn.Module):\n",
    "    def __init__(self,device=device):\n",
    "        super().__init__()\n",
    "        self.device=device\n",
    "        self.encoder=Encoder(device=device)\n",
    "        self.decoder=Decoder(device=device)\n",
    "    \n",
    "    def forward(self,x):\n",
    "        mean,var=self.encoder(x)\n",
    "        z=self.reparameterize(mean,var)\n",
    "        y=self.decoder(z)\n",
    "        \n",
    "        return y,z\n",
    "    \n",
    "    def reparameterize(self,mean,var):\n",
    "        eps=torch.randn(mean.size()).to(self.device)\n",
    "        z=mean+torch.sqrt(var)*eps\n",
    "        return z\n",
    "    \n",
    "    def lower_bound(self,x):\n",
    "        mean,var=self.encoder(x)\n",
    "        z=self.reparameterize(mean,var)\n",
    "        y=self.decoder(z)\n",
    "        \n",
    "        reconst=-torch.mean(torch.sum(x*torch.log(y)+(1-x)*torch.log(1-y),dim=1))\n",
    "        \n",
    "        kl=-torch.mean(torch.sum(1+torch.log(var)-mean**2-var,dim=1))/2\n",
    "        \n",
    "        L=reconst+kl\n",
    "        \n",
    "        return L\n",
    "        \n",
    "    "
   ]
  },
  {
   "cell_type": "code",
   "execution_count": 6,
   "metadata": {},
   "outputs": [],
   "source": [
    "class Encoder(nn.Module):\n",
    "    def __init__(self,device=device):\n",
    "        super().__init__()\n",
    "        self.device=device\n",
    "        self.l1=nn.Linear(784,200)\n",
    "        self.l_mean=nn.Linear(200,10)\n",
    "        self.l_var=nn.Linear(200,10)\n",
    "    def forward(self,x):\n",
    "        h=self.l1(x)\n",
    "        h=torch.relu(h)\n",
    "        mean=self.l_mean(h)\n",
    "        var=self.l_var(h)\n",
    "        var=F.softplus(var)\n",
    "        \n",
    "        return mean,var"
   ]
  },
  {
   "cell_type": "code",
   "execution_count": 7,
   "metadata": {},
   "outputs": [],
   "source": [
    "class Decoder(nn.Module):\n",
    "    def __init__(self,device=device):\n",
    "        super().__init__()\n",
    "        self.device=device\n",
    "        self.l1=nn.Linear(10,200)\n",
    "        self.l2=nn.Linear(200,784)\n",
    "    \n",
    "    def forward(self,x):\n",
    "        h=self.l1(x)\n",
    "        h=torch.relu(h)\n",
    "        h=self.l2(h)\n",
    "        y=torch.sigmoid(h)\n",
    "        return y\n",
    "    "
   ]
  },
  {
   "cell_type": "code",
   "execution_count": 8,
   "metadata": {},
   "outputs": [],
   "source": [
    "model=VAE(device=device).to(device)\n",
    "\n",
    "criterion=model.lower_bound\n",
    "\n",
    "optimizer=optimizers.Adam(model.parameters())\n"
   ]
  },
  {
   "cell_type": "code",
   "execution_count": 9,
   "metadata": {},
   "outputs": [
    {
     "name": "stdout",
     "output_type": "stream",
     "text": [
      "Epoch: 1, Loss: 169.335\n",
      "Epoch: 2, Loss: 128.335\n",
      "Epoch: 3, Loss: 122.891\n",
      "Epoch: 4, Loss: 120.053\n",
      "Epoch: 5, Loss: 118.269\n",
      "Epoch: 6, Loss: 116.961\n",
      "Epoch: 7, Loss: 116.002\n",
      "Epoch: 8, Loss: 115.277\n",
      "Epoch: 9, Loss: 114.620\n",
      "Epoch: 10, Loss: 114.136\n"
     ]
    }
   ],
   "source": [
    "epochs=10\n",
    "\n",
    "for epoch in range(epochs):\n",
    "    train_loss=0\n",
    "    for (x,_) in train_dataloader:\n",
    "        x=x.to(device)\n",
    "        model.train()\n",
    "        \n",
    "        loss=criterion(x)\n",
    "        \n",
    "        optimizer.zero_grad()\n",
    "        \n",
    "        loss.backward()\n",
    "        \n",
    "        optimizer.step()\n",
    "        \n",
    "        train_loss+=loss.item()\n",
    "    \n",
    "    train_loss/=len(train_dataloader)\n",
    "    print('Epoch: {}, Loss: {:.3f}'.format(\n",
    "        epoch+1,\n",
    "        train_loss))\n",
    "    "
   ]
  },
  {
   "cell_type": "code",
   "execution_count": 49,
   "metadata": {},
   "outputs": [],
   "source": [
    "batch_size=8\n",
    "z=torch.randn(batch_size,10,device=device)\n",
    "model.eval()\n",
    "\n",
    "im=model.decoder(z)\n",
    "im=im.view(-1,28,28)\n",
    "im=im.squeeze().detach().cpu().numpy()"
   ]
  },
  {
   "cell_type": "code",
   "execution_count": 51,
   "metadata": {},
   "outputs": [
    {
     "name": "stdout",
     "output_type": "stream",
     "text": [
      "(8, 28, 28)\n"
     ]
    }
   ],
   "source": [
    "print(im.shape)"
   ]
  },
  {
   "cell_type": "code",
   "execution_count": 44,
   "metadata": {},
   "outputs": [
    {
     "data": {
      "image/png": "[encoded data removed]",
      "text/plain": [
       "<Figure size 432x288 with 8 Axes>"
      ]
     },
     "metadata": {
      "needs_background": "light"
     },
     "output_type": "display_data"
    }
   ],
   "source": [
    "for i,im in enumerate(im):\n",
    "    plt.subplot(2,4,i+1)\n",
    "    plt.imshow(im,cmap='binary_r')\n",
    "    plt.axis('off')\n",
    "\n",
    "plt.tight_layout()\n",
    "plt.show()"
   ]
  },
  {
   "cell_type": "code",
   "execution_count": 67,
   "metadata": {},
   "outputs": [
    {
     "data": {
      "image/png": "[encoded data removed]",
      "text/plain": [
       "<Figure size 720x216 with 45 Axes>"
      ]
     },
     "metadata": {},
     "output_type": "display_data"
    }
   ],
   "source": [
    "fig=plt.figure(figsize=(10,3))\n",
    "\n",
    "model.eval()\n",
    "ims=[]\n",
    "for x,t in test_dataloader:\n",
    "    for i,im in enumerate(x.view(-1,28,28).detach().cpu().numpy()[:15]):\n",
    "        ax=fig.add_subplot(3,15,i+1,xticks=[],yticks=[])\n",
    "        ax.imshow(im,'gray')\n",
    "    x=x.to(device)\n",
    "    y,z=model(x)\n",
    "    y=y.view(-1,28,28)\n",
    "    for i,im in enumerate(y.view(-1,28,28).detach().cpu().numpy()[:15]):\n",
    "        ax=fig.add_subplot(3,15,i+16,xticks=[],yticks=[])\n",
    "        ax.imshow(im,'gray')\n",
    "        \n",
    "    z1to0=torch.cat([z[1]*(i*0.1)+z[0]*((9-i)*0.1) for i in range(15)]).reshape(15,10)\n",
    "    \n",
    "    y2=model.decoder(z1to0).view(-1,28,28).cpu().detach().numpy()[:15]\n",
    "    \n",
    "    \n",
    "    \n",
    "    for i,im in enumerate(y2):\n",
    "        ax=fig.add_subplot(3,15,i+31,xticks=[],yticks=[])\n",
    "        imm=Image.fromarray(np.uint8(cm.gist_earth(im)*255))\n",
    "        ims.append(imm)\n",
    "        ax.imshow(im,'gray')\n",
    "    \n",
    "    break\n",
    "    "
   ]
  },
  {
   "cell_type": "code",
   "execution_count": 70,
   "metadata": {},
   "outputs": [],
   "source": [
    "ims[0].save('7to2.gif' , save_all = True , append_images = ims[1:] , duration = 400 , loop = 0)"
   ]
  },
  {
   "cell_type": "code",
   "execution_count": null,
   "metadata": {},
   "outputs": [],
   "source": []
  }
 ],
 "metadata": {
  "kernelspec": {
   "display_name": "Python 3",
   "language": "python",
   "name": "python3"
  },
  "language_info": {
   "codemirror_mode": {
    "name": "ipython",
    "version": 3
   },
   "file_extension": ".py",
   "mimetype": "text/x-python",
   "name": "python",
   "nbconvert_exporter": "python",
   "pygments_lexer": "ipython3",
   "version": "3.6.6"
  }
 },
 "nbformat": 4,
 "nbformat_minor": 2
}
